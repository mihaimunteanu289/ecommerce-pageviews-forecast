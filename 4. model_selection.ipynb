{
 "cells": [
  {
   "cell_type": "markdown",
   "id": "06df1c6a-4286-4fe2-9a1a-b43b7d8a511b",
   "metadata": {},
   "source": [
    "### Import libraries"
   ]
  },
  {
   "cell_type": "code",
   "execution_count": 1,
   "id": "bc93ad9c-84bc-4b9c-85eb-91bed09fcada",
   "metadata": {},
   "outputs": [],
   "source": [
    "import pandas as pd\n",
    "\n",
    "from sklearn.preprocessing import StandardScaler\n",
    "from tpot import TPOTRegressor\n",
    "\n",
    "pd.set_option('display.max_columns', None)  "
   ]
  },
  {
   "cell_type": "markdown",
   "id": "2b152e5f-a9ca-4140-b01c-d50cbe36a1eb",
   "metadata": {},
   "source": [
    "### Read dataset"
   ]
  },
  {
   "cell_type": "code",
   "execution_count": 2,
   "id": "c8ecdc05-cfcf-404c-82ee-0829151d01e3",
   "metadata": {},
   "outputs": [],
   "source": [
    "df = pd.read_csv('data/dataset_v3.csv')"
   ]
  },
  {
   "cell_type": "markdown",
   "id": "076bb65e-186a-45ae-b9ce-71fe250defbd",
   "metadata": {},
   "source": [
    "I decided to proceed with TPOT as an AutoML framework. Initially, I was considering auto-sklearn, but after reading this article where TPOT was recommended for regression problems (https://medium.com/georgian-impact-blog/choosing-the-best-automl-framework-4f2a90cb1826), I made my choice."
   ]
  },
  {
   "cell_type": "markdown",
   "id": "0a1643f9-1d3f-4bf4-8aa7-19bbdec3337b",
   "metadata": {},
   "source": [
    "Now let's split this dataframe into train and test. We'll pick the last 5 days as a test set."
   ]
  },
  {
   "cell_type": "code",
   "execution_count": 3,
   "id": "85f6629e-4b7c-4adf-8ae4-46aee86f3f6e",
   "metadata": {},
   "outputs": [],
   "source": [
    "# Calculate the number of unique dates that correspond to 20% of the dataset\n",
    "num_dates = int(df['date'].nunique() * 0.2)\n",
    "\n",
    "# Get the date that splits the data into 80% training and 20% testing\n",
    "split_date = df['date'].unique()[-num_dates]\n",
    "\n",
    "# Splitting the dataset\n",
    "train = df[df['date'] < split_date]\n",
    "test = df[df['date'] >= split_date]\n",
    "\n",
    "X_train = train.drop(columns=['pageviews_-1d_lag', 'offer_id', 'date'])  # Dropping 'date' as it's not a feature\n",
    "y_train = train['pageviews_-1d_lag']\n",
    "\n",
    "X_test = test.drop(columns=['pageviews_-1d_lag', 'offer_id', 'date'])\n",
    "y_test = test['pageviews_-1d_lag']"
   ]
  },
  {
   "cell_type": "markdown",
   "id": "e18f24c6-552f-4e87-bee8-928781152981",
   "metadata": {
    "tags": []
   },
   "source": [
    "Data normalation since some algorithms are sensitive to Feature Scaling."
   ]
  },
  {
   "cell_type": "code",
   "execution_count": 4,
   "id": "d50f33dc-918d-4879-a762-64b984687cd0",
   "metadata": {},
   "outputs": [],
   "source": [
    "scaler = StandardScaler()\n",
    "X_train_scaled = scaler.fit_transform(X_train)\n",
    "X_test_scaled = scaler.transform(X_test)  "
   ]
  },
  {
   "cell_type": "markdown",
   "id": "ec907bcd-34ec-4310-a080-bd828687813f",
   "metadata": {},
   "source": [
    "Define searching space."
   ]
  },
  {
   "cell_type": "code",
   "execution_count": 5,
   "id": "c6f7a40c-ede0-4672-9046-684184c1fde9",
   "metadata": {},
   "outputs": [],
   "source": [
    "tpot_config = {\n",
    "    # Existing ensemble models\n",
    "    'sklearn.ensemble.RandomForestRegressor': {\n",
    "        'n_estimators': [100, 200, 300],\n",
    "        'max_features': [\"auto\", \"sqrt\", \"log2\"],\n",
    "        'max_depth': [1, 5, 10],\n",
    "        'min_samples_split': [2, 5, 10, 15, 20],\n",
    "        'min_samples_leaf': [1, 5, 10, 15, 20],\n",
    "        'bootstrap': [True, False]\n",
    "    },\n",
    "    'xgboost.XGBRegressor': {\n",
    "        'n_estimators': [100, 200, 300],\n",
    "        'max_depth': [1, 5, 10],\n",
    "        'learning_rate': [0.01, 0.1, 0.2, 0.3],\n",
    "        'subsample': [0.6, 0.7, 0.8, 0.9, 1.0],\n",
    "        'colsample_bytree': [0.6, 0.7, 0.8, 0.9, 1.0],\n",
    "        'min_child_weight': [1, 2, 5, 10]\n",
    "    },\n",
    "    'lightgbm.LGBMRegressor': {\n",
    "        'num_leaves': [20, 50, 100, 150],\n",
    "        'learning_rate': [0.01, 0.05, 0.1],\n",
    "        'n_estimators': [100, 200, 300],\n",
    "        'subsample': [0.6, 0.7, 0.8, 0.9, 1.0],\n",
    "        'max_depth': [1, 5, 10]\n",
    "    },\n",
    "\n",
    "    # Linear models\n",
    "    'sklearn.linear_model.LinearRegression': {\n",
    "    },\n",
    "    'sklearn.linear_model.Ridge': {\n",
    "        'alpha': [1.0, 10.0, 100.0, 1000.0]\n",
    "    },\n",
    "    'sklearn.linear_model.Lasso': {\n",
    "        'alpha': [0.001, 0.01, 0.1, 1.0, 10.0]\n",
    "    }\n",
    "}"
   ]
  },
  {
   "cell_type": "markdown",
   "id": "e8c86371-8fa2-471f-8175-690a6c3fe5a7",
   "metadata": {},
   "source": [
    "### Instantiate the TPOTRegressor for AutoML"
   ]
  },
  {
   "cell_type": "code",
   "execution_count": 6,
   "id": "712cf399-8085-45a9-85e4-6fdcbcb7360c",
   "metadata": {},
   "outputs": [
    {
     "name": "stdout",
     "output_type": "stream",
     "text": [
      "6 operators have been imported by TPOT.\n"
     ]
    },
    {
     "data": {
      "application/vnd.jupyter.widget-view+json": {
       "model_id": "4289eb8efc044be59e36bc948e1bd8f9",
       "version_major": 2,
       "version_minor": 0
      },
      "text/plain": [
       "Optimization Progress:   0%|          | 0/30 [00:00<?, ?pipeline/s]"
      ]
     },
     "metadata": {},
     "output_type": "display_data"
    },
    {
     "name": "stdout",
     "output_type": "stream",
     "text": [
      "Skipped pipeline #15 due to time out. Continuing to the next pipeline.\n",
      "Skipped pipeline #20 due to time out. Continuing to the next pipeline.\n",
      "Skipped pipeline #24 due to time out. Continuing to the next pipeline.\n",
      "_pre_test decorator: _mate_operator: num_test=0 'str' object has no attribute 'arity'.\n",
      "_pre_test decorator: _mate_operator: num_test=0 'str' object has no attribute 'arity'.\n",
      "_pre_test decorator: _mate_operator: num_test=0 'str' object has no attribute 'arity'.\n",
      "_pre_test decorator: _mate_operator: num_test=0 'str' object has no attribute 'arity'.\n",
      "Pipeline encountered that has previously been evaluated during the optimization process. Using the score from the previous evaluation.\n",
      "Skipped pipeline #48 due to time out. Continuing to the next pipeline.\n",
      "Skipped pipeline #60 due to time out. Continuing to the next pipeline.\n",
      "\n",
      "Generation 1 - Current Pareto front scores:\n",
      "\n",
      "-1\t-187413.27873369632\tLinearRegression(input_matrix)\n",
      "\n",
      "-2\t-187412.1138934574\tLinearRegression(LinearRegression(input_matrix))\n",
      "_pre_test decorator: _mate_operator: num_test=0 'str' object has no attribute 'arity'.\n",
      "_pre_test decorator: _mate_operator: num_test=0 'str' object has no attribute 'arity'.\n",
      "_pre_test decorator: _mate_operator: num_test=0 'str' object has no attribute 'arity'.\n",
      "_pre_test decorator: _mate_operator: num_test=0 'str' object has no attribute 'arity'.\n",
      "_pre_test decorator: _mate_operator: num_test=0 'str' object has no attribute 'arity'.\n",
      "_pre_test decorator: _mate_operator: num_test=0 'str' object has no attribute 'arity'.\n",
      "Pipeline encountered that has previously been evaluated during the optimization process. Using the score from the previous evaluation.\n",
      "Pipeline encountered that has previously been evaluated during the optimization process. Using the score from the previous evaluation.\n",
      "\n",
      "63.84 minutes have elapsed. TPOT will close down.\n",
      "TPOT closed during evaluation in one generation.\n",
      "WARNING: TPOT may not provide a good pipeline if TPOT is stopped/interrupted in a early generation.\n",
      "\n",
      "\n",
      "TPOT closed prematurely. Will use the current best pipeline.\n"
     ]
    },
    {
     "data": {
      "text/html": [
       "<style>#sk-container-id-1 {color: black;background-color: white;}#sk-container-id-1 pre{padding: 0;}#sk-container-id-1 div.sk-toggleable {background-color: white;}#sk-container-id-1 label.sk-toggleable__label {cursor: pointer;display: block;width: 100%;margin-bottom: 0;padding: 0.3em;box-sizing: border-box;text-align: center;}#sk-container-id-1 label.sk-toggleable__label-arrow:before {content: \"▸\";float: left;margin-right: 0.25em;color: #696969;}#sk-container-id-1 label.sk-toggleable__label-arrow:hover:before {color: black;}#sk-container-id-1 div.sk-estimator:hover label.sk-toggleable__label-arrow:before {color: black;}#sk-container-id-1 div.sk-toggleable__content {max-height: 0;max-width: 0;overflow: hidden;text-align: left;background-color: #f0f8ff;}#sk-container-id-1 div.sk-toggleable__content pre {margin: 0.2em;color: black;border-radius: 0.25em;background-color: #f0f8ff;}#sk-container-id-1 input.sk-toggleable__control:checked~div.sk-toggleable__content {max-height: 200px;max-width: 100%;overflow: auto;}#sk-container-id-1 input.sk-toggleable__control:checked~label.sk-toggleable__label-arrow:before {content: \"▾\";}#sk-container-id-1 div.sk-estimator input.sk-toggleable__control:checked~label.sk-toggleable__label {background-color: #d4ebff;}#sk-container-id-1 div.sk-label input.sk-toggleable__control:checked~label.sk-toggleable__label {background-color: #d4ebff;}#sk-container-id-1 input.sk-hidden--visually {border: 0;clip: rect(1px 1px 1px 1px);clip: rect(1px, 1px, 1px, 1px);height: 1px;margin: -1px;overflow: hidden;padding: 0;position: absolute;width: 1px;}#sk-container-id-1 div.sk-estimator {font-family: monospace;background-color: #f0f8ff;border: 1px dotted black;border-radius: 0.25em;box-sizing: border-box;margin-bottom: 0.5em;}#sk-container-id-1 div.sk-estimator:hover {background-color: #d4ebff;}#sk-container-id-1 div.sk-parallel-item::after {content: \"\";width: 100%;border-bottom: 1px solid gray;flex-grow: 1;}#sk-container-id-1 div.sk-label:hover label.sk-toggleable__label {background-color: #d4ebff;}#sk-container-id-1 div.sk-serial::before {content: \"\";position: absolute;border-left: 1px solid gray;box-sizing: border-box;top: 0;bottom: 0;left: 50%;z-index: 0;}#sk-container-id-1 div.sk-serial {display: flex;flex-direction: column;align-items: center;background-color: white;padding-right: 0.2em;padding-left: 0.2em;position: relative;}#sk-container-id-1 div.sk-item {position: relative;z-index: 1;}#sk-container-id-1 div.sk-parallel {display: flex;align-items: stretch;justify-content: center;background-color: white;position: relative;}#sk-container-id-1 div.sk-item::before, #sk-container-id-1 div.sk-parallel-item::before {content: \"\";position: absolute;border-left: 1px solid gray;box-sizing: border-box;top: 0;bottom: 0;left: 50%;z-index: -1;}#sk-container-id-1 div.sk-parallel-item {display: flex;flex-direction: column;z-index: 1;position: relative;background-color: white;}#sk-container-id-1 div.sk-parallel-item:first-child::after {align-self: flex-end;width: 50%;}#sk-container-id-1 div.sk-parallel-item:last-child::after {align-self: flex-start;width: 50%;}#sk-container-id-1 div.sk-parallel-item:only-child::after {width: 0;}#sk-container-id-1 div.sk-dashed-wrapped {border: 1px dashed gray;margin: 0 0.4em 0.5em 0.4em;box-sizing: border-box;padding-bottom: 0.4em;background-color: white;}#sk-container-id-1 div.sk-label label {font-family: monospace;font-weight: bold;display: inline-block;line-height: 1.2em;}#sk-container-id-1 div.sk-label-container {text-align: center;}#sk-container-id-1 div.sk-container {/* jupyter's `normalize.less` sets `[hidden] { display: none; }` but bootstrap.min.css set `[hidden] { display: none !important; }` so we also need the `!important` here to be able to override the default hidden behavior on the sphinx rendered scikit-learn.org. See: https://github.com/scikit-learn/scikit-learn/issues/21755 */display: inline-block !important;position: relative;}#sk-container-id-1 div.sk-text-repr-fallback {display: none;}</style><div id=\"sk-container-id-1\" class=\"sk-top-container\"><div class=\"sk-text-repr-fallback\"><pre>TPOTRegressor(config_dict={&#x27;lightgbm.LGBMRegressor&#x27;: {&#x27;learning_rate&#x27;: [0.01,\n",
       "                                                                        0.05,\n",
       "                                                                        0.1],\n",
       "                                                      &#x27;max_depth&#x27;: [1, 5, 10],\n",
       "                                                      &#x27;n_estimators&#x27;: [100, 200,\n",
       "                                                                       300],\n",
       "                                                      &#x27;num_leaves&#x27;: [20, 50,\n",
       "                                                                     100, 150],\n",
       "                                                      &#x27;subsample&#x27;: [0.6, 0.7,\n",
       "                                                                    0.8, 0.9,\n",
       "                                                                    1.0]},\n",
       "                           &#x27;sklearn.ensemble.RandomForestRegressor&#x27;: {&#x27;bootstrap&#x27;: [True,\n",
       "                                                                                    False],\n",
       "                                                                      &#x27;max_depth&#x27;: [1,\n",
       "                                                                                    5,\n",
       "                                                                                    10],\n",
       "                                                                      &#x27;max_features&#x27;: [&#x27;auto&#x27;,\n",
       "                                                                                       &#x27;sqrt&#x27;,\n",
       "                                                                                       &#x27;log2&#x27;],\n",
       "                                                                      &#x27;min_samples_leaf&#x27;: [1,\n",
       "                                                                                           5,\n",
       "                                                                                           1...\n",
       "                           &#x27;sklearn.linear_model.Ridge&#x27;: {&#x27;alpha&#x27;: [1.0, 10.0,\n",
       "                                                                    100.0,\n",
       "                                                                    1000.0]},\n",
       "                           &#x27;xgboost.XGBRegressor&#x27;: {&#x27;colsample_bytree&#x27;: [0.6,\n",
       "                                                                         0.7,\n",
       "                                                                         0.8,\n",
       "                                                                         0.9,\n",
       "                                                                         1.0],\n",
       "                                                    &#x27;learning_rate&#x27;: [0.01, 0.1,\n",
       "                                                                      0.2,\n",
       "                                                                      0.3],\n",
       "                                                    &#x27;max_depth&#x27;: [1, 5, 10],\n",
       "                                                    &#x27;min_child_weight&#x27;: [1, 2,\n",
       "                                                                         5,\n",
       "                                                                         10],\n",
       "                                                    &#x27;n_estimators&#x27;: [100, 200,\n",
       "                                                                     300],\n",
       "                                                    &#x27;subsample&#x27;: [0.6, 0.7, 0.8,\n",
       "                                                                  0.9, 1.0]}},\n",
       "              cv=None, generations=5, max_eval_time_mins=10, max_time_mins=60,\n",
       "              n_jobs=-1, population_size=30, random_state=42, verbosity=3)</pre><b>In a Jupyter environment, please rerun this cell to show the HTML representation or trust the notebook. <br />On GitHub, the HTML representation is unable to render, please try loading this page with nbviewer.org.</b></div><div class=\"sk-container\" hidden><div class=\"sk-item\"><div class=\"sk-estimator sk-toggleable\"><input class=\"sk-toggleable__control sk-hidden--visually\" id=\"sk-estimator-id-1\" type=\"checkbox\" checked><label for=\"sk-estimator-id-1\" class=\"sk-toggleable__label sk-toggleable__label-arrow\">TPOTRegressor</label><div class=\"sk-toggleable__content\"><pre>TPOTRegressor(config_dict={&#x27;lightgbm.LGBMRegressor&#x27;: {&#x27;learning_rate&#x27;: [0.01,\n",
       "                                                                        0.05,\n",
       "                                                                        0.1],\n",
       "                                                      &#x27;max_depth&#x27;: [1, 5, 10],\n",
       "                                                      &#x27;n_estimators&#x27;: [100, 200,\n",
       "                                                                       300],\n",
       "                                                      &#x27;num_leaves&#x27;: [20, 50,\n",
       "                                                                     100, 150],\n",
       "                                                      &#x27;subsample&#x27;: [0.6, 0.7,\n",
       "                                                                    0.8, 0.9,\n",
       "                                                                    1.0]},\n",
       "                           &#x27;sklearn.ensemble.RandomForestRegressor&#x27;: {&#x27;bootstrap&#x27;: [True,\n",
       "                                                                                    False],\n",
       "                                                                      &#x27;max_depth&#x27;: [1,\n",
       "                                                                                    5,\n",
       "                                                                                    10],\n",
       "                                                                      &#x27;max_features&#x27;: [&#x27;auto&#x27;,\n",
       "                                                                                       &#x27;sqrt&#x27;,\n",
       "                                                                                       &#x27;log2&#x27;],\n",
       "                                                                      &#x27;min_samples_leaf&#x27;: [1,\n",
       "                                                                                           5,\n",
       "                                                                                           1...\n",
       "                           &#x27;sklearn.linear_model.Ridge&#x27;: {&#x27;alpha&#x27;: [1.0, 10.0,\n",
       "                                                                    100.0,\n",
       "                                                                    1000.0]},\n",
       "                           &#x27;xgboost.XGBRegressor&#x27;: {&#x27;colsample_bytree&#x27;: [0.6,\n",
       "                                                                         0.7,\n",
       "                                                                         0.8,\n",
       "                                                                         0.9,\n",
       "                                                                         1.0],\n",
       "                                                    &#x27;learning_rate&#x27;: [0.01, 0.1,\n",
       "                                                                      0.2,\n",
       "                                                                      0.3],\n",
       "                                                    &#x27;max_depth&#x27;: [1, 5, 10],\n",
       "                                                    &#x27;min_child_weight&#x27;: [1, 2,\n",
       "                                                                         5,\n",
       "                                                                         10],\n",
       "                                                    &#x27;n_estimators&#x27;: [100, 200,\n",
       "                                                                     300],\n",
       "                                                    &#x27;subsample&#x27;: [0.6, 0.7, 0.8,\n",
       "                                                                  0.9, 1.0]}},\n",
       "              cv=None, generations=5, max_eval_time_mins=10, max_time_mins=60,\n",
       "              n_jobs=-1, population_size=30, random_state=42, verbosity=3)</pre></div></div></div></div></div>"
      ],
      "text/plain": [
       "TPOTRegressor(config_dict={'lightgbm.LGBMRegressor': {'learning_rate': [0.01,\n",
       "                                                                        0.05,\n",
       "                                                                        0.1],\n",
       "                                                      'max_depth': [1, 5, 10],\n",
       "                                                      'n_estimators': [100, 200,\n",
       "                                                                       300],\n",
       "                                                      'num_leaves': [20, 50,\n",
       "                                                                     100, 150],\n",
       "                                                      'subsample': [0.6, 0.7,\n",
       "                                                                    0.8, 0.9,\n",
       "                                                                    1.0]},\n",
       "                           'sklearn.ensemble.RandomForestRegressor': {'bootstrap': [True,\n",
       "                                                                                    False],\n",
       "                                                                      'max_depth': [1,\n",
       "                                                                                    5,\n",
       "                                                                                    10],\n",
       "                                                                      'max_features': ['auto',\n",
       "                                                                                       'sqrt',\n",
       "                                                                                       'log2'],\n",
       "                                                                      'min_samples_leaf': [1,\n",
       "                                                                                           5,\n",
       "                                                                                           1...\n",
       "                           'sklearn.linear_model.Ridge': {'alpha': [1.0, 10.0,\n",
       "                                                                    100.0,\n",
       "                                                                    1000.0]},\n",
       "                           'xgboost.XGBRegressor': {'colsample_bytree': [0.6,\n",
       "                                                                         0.7,\n",
       "                                                                         0.8,\n",
       "                                                                         0.9,\n",
       "                                                                         1.0],\n",
       "                                                    'learning_rate': [0.01, 0.1,\n",
       "                                                                      0.2,\n",
       "                                                                      0.3],\n",
       "                                                    'max_depth': [1, 5, 10],\n",
       "                                                    'min_child_weight': [1, 2,\n",
       "                                                                         5,\n",
       "                                                                         10],\n",
       "                                                    'n_estimators': [100, 200,\n",
       "                                                                     300],\n",
       "                                                    'subsample': [0.6, 0.7, 0.8,\n",
       "                                                                  0.9, 1.0]}},\n",
       "              cv=None, generations=5, max_eval_time_mins=10, max_time_mins=60,\n",
       "              n_jobs=-1, population_size=30, random_state=42, verbosity=3)"
      ]
     },
     "execution_count": 6,
     "metadata": {},
     "output_type": "execute_result"
    }
   ],
   "source": [
    "tpot = TPOTRegressor(\n",
    "    generations=5,\n",
    "    population_size=30,\n",
    "    n_jobs=-1,\n",
    "    verbosity=3, \n",
    "    cv=None,\n",
    "    random_state=42,\n",
    "    max_time_mins=60,\n",
    "    max_eval_time_mins=10,\n",
    "    config_dict=tpot_config,\n",
    ")\n",
    "\n",
    "# Run TPOT\n",
    "tpot.fit(X_train, y_train)"
   ]
  },
  {
   "cell_type": "markdown",
   "id": "9a338b34-668a-41ff-9cb1-c89813acd236",
   "metadata": {},
   "source": [
    "Run the TPOT optimization"
   ]
  },
  {
   "cell_type": "markdown",
   "id": "a3fd2422-553e-4f9f-ab8e-f62dcd9aaee2",
   "metadata": {},
   "source": [
    "Check the score of the best pipeline."
   ]
  },
  {
   "cell_type": "code",
   "execution_count": 7,
   "id": "006c7f66-99ae-4bf6-ac28-71cd15baef7b",
   "metadata": {},
   "outputs": [
    {
     "name": "stdout",
     "output_type": "stream",
     "text": [
      "Test Score:  -1.0497266696908933e+24\n"
     ]
    },
    {
     "name": "stderr",
     "output_type": "stream",
     "text": [
      "C:\\Users\\Mihigh\\anaconda3\\envs\\venv\\lib\\site-packages\\sklearn\\base.py:409: UserWarning: X does not have valid feature names, but LinearRegression was fitted with feature names\n",
      "  warnings.warn(\n"
     ]
    }
   ],
   "source": [
    "print(\"Test Score: \", tpot.score(X_test_scaled, y_test))"
   ]
  },
  {
   "cell_type": "markdown",
   "id": "e7316604-a97e-4ba7-9c28-7f3de78ec469",
   "metadata": {},
   "source": [
    "Export the best pipeline as a Python script file."
   ]
  },
  {
   "cell_type": "code",
   "execution_count": 8,
   "id": "257b097b-b172-422a-99b3-707dbab75263",
   "metadata": {},
   "outputs": [],
   "source": [
    "tpot.export('tpot_model_selection/tpot_model_pipeline.py')"
   ]
  },
  {
   "cell_type": "code",
   "execution_count": null,
   "id": "faf6d52c-2089-430b-ab29-2b7b1184debf",
   "metadata": {},
   "outputs": [],
   "source": []
  }
 ],
 "metadata": {
  "kernelspec": {
   "display_name": "Python 3 (ipykernel)",
   "language": "python",
   "name": "python3"
  },
  "language_info": {
   "codemirror_mode": {
    "name": "ipython",
    "version": 3
   },
   "file_extension": ".py",
   "mimetype": "text/x-python",
   "name": "python",
   "nbconvert_exporter": "python",
   "pygments_lexer": "ipython3",
   "version": "3.10.8"
  }
 },
 "nbformat": 4,
 "nbformat_minor": 5
}
