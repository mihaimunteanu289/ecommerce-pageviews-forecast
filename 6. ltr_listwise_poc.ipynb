{
 "cells": [
  {
   "cell_type": "markdown",
   "id": "53cfd957-0dfd-4502-a667-5cbec1750149",
   "metadata": {},
   "source": [
    "So, regarding the method of ranking the products in order to maximize the total number of orders, I wa thinking about two approaches:\n",
    "1. Weighted Rank System (rule-based aproach)\n",
    "2. Learning to Rank Listwise method\n",
    "\n",
    "At first, I wasn't aware of the Learning to Rank (LTR) family of algorithms. However, after reading articles on Medium and Toward Data Science, I concluded that for my specific problem, a listwise approach might be the most appropriate one. Consequently, I opted to use LightGBM, a library developed by Microsoft, due to its simplicity and efficiency. While there may be other methods available, I decided to proceed with this one."
   ]
  },
  {
   "cell_type": "markdown",
   "id": "1394ba7d-eb80-48f6-b56d-339a9725533b",
   "metadata": {},
   "source": [
    "### Import libraries"
   ]
  },
  {
   "cell_type": "code",
   "execution_count": 1,
   "id": "2b6a01b0-5bdb-40f0-9c4f-99aacf2754a4",
   "metadata": {},
   "outputs": [],
   "source": [
    "import lightgbm as lgb\n",
    "import pandas as pd\n",
    "import numpy as np\n",
    "import logging\n",
    "import optuna\n",
    "import json\n",
    "\n",
    "from sklearn.model_selection import train_test_split\n",
    "from sklearn.metrics import ndcg_score"
   ]
  },
  {
   "cell_type": "markdown",
   "id": "9d1bac4f-3740-44b6-b26d-7db9ec8a2ddd",
   "metadata": {},
   "source": [
    "### Read dataset"
   ]
  },
  {
   "cell_type": "code",
   "execution_count": 2,
   "id": "04e914f5-d9c3-47a4-83a3-cf95a1da3440",
   "metadata": {},
   "outputs": [],
   "source": [
    "# Load the dataset\n",
    "df = pd.read_csv('data/dataset_v1.csv')"
   ]
  },
  {
   "cell_type": "markdown",
   "id": "5ba6ef27-d22f-401d-925c-e8ef0345ef94",
   "metadata": {},
   "source": [
    "Let's proceed by filtering out the records where all the predictors, including the dependent variable, are 0."
   ]
  },
  {
   "cell_type": "code",
   "execution_count": 3,
   "id": "6540cb7d-5d7b-4afc-acb2-9516312ee51d",
   "metadata": {},
   "outputs": [],
   "source": [
    "filtered_df = df[(df.drop(columns=['offer_id', 'category_id', 'base_price_with_vat', 'product_novelty', 'promo_price_with_vat', 'date']) == 0).all(axis=1)]\n",
    "df = df[~df.index.isin(filtered_df.index)].reset_index(drop=True)"
   ]
  },
  {
   "cell_type": "markdown",
   "id": "4a0aeee2-857b-46dd-a8e5-bb3cda3a1439",
   "metadata": {},
   "source": [
    "### Train test split and defining groups"
   ]
  },
  {
   "cell_type": "markdown",
   "id": "06d937ad-cfa2-4585-978f-e8b1c8b039f3",
   "metadata": {},
   "source": [
    "Further, I am going to split the dataset into a train and test set while keeping the dates unique in both splits./"
   ]
  },
  {
   "cell_type": "code",
   "execution_count": 4,
   "id": "a00fe318-173f-4ec7-8d00-3eab9b8dc3af",
   "metadata": {},
   "outputs": [],
   "source": [
    "df = df.sort_values(by='date')\n",
    "\n",
    "max_date = df['date'].max()\n",
    "\n",
    "unique_dates = df['date'].unique()\n",
    "split_date_index = int(len(unique_dates) * 0.8)\n",
    "split_date = unique_dates[split_date_index]\n",
    "\n",
    "# Split the DataFrame into training and testing sets based on the split date\n",
    "train_df = df[df['date'] < split_date]\n",
    "test_df = df[df['date'] >= split_date]\n",
    "\n",
    "# Separate features and target variable for training and testing sets\n",
    "X_train = train_df[['category_id', 'date', 'add_to_wishlist', 'add_to_cart', 'count_reviews', 'pageviews', 'rating']]\n",
    "y_train = train_df['orders']\n",
    "\n",
    "X_test = test_df[['category_id', 'date', 'add_to_wishlist', 'add_to_cart', 'count_reviews', 'pageviews', 'rating']]\n",
    "y_test = test_df['orders']"
   ]
  },
  {
   "cell_type": "markdown",
   "id": "844ad694-fca2-43bc-a7ce-6e3235181594",
   "metadata": {},
   "source": [
    "Given the initial requirement to split the groups by category, I also considered the significance of the temporal variable. Recognizing that patterns could vary daily, I decided to split the groups based on both category and date. This approach is aimed at capturing any distinct patterns that emerge on a day-to-day basis."
   ]
  },
  {
   "cell_type": "code",
   "execution_count": 5,
   "id": "741bc89f-76a2-44bc-8210-2d1d973c7192",
   "metadata": {},
   "outputs": [],
   "source": [
    "# Calculate the size of each group (category) for both training and testing sets\n",
    "train_groups = X_train.groupby(['category_id', 'date']).size().values.tolist()\n",
    "test_groups = X_test.groupby(['category_id', 'date']).size().values.tolist()\n",
    "\n",
    "# Remove 'category_id' from X_train and X_test as it's used for grouping, not as a feature\n",
    "X_train_features = X_train.drop(columns=['category_id', 'date'])\n",
    "X_test_features = X_test.drop(columns=['category_id', 'date'])\n",
    "\n",
    "# Creating LightGBM datasets with correct group information\n",
    "train_data = lgb.Dataset(X_train_features, label=y_train, group=train_groups)\n",
    "test_data = lgb.Dataset(X_test_features, label=y_test, group=test_groups, reference=train_data)"
   ]
  },
  {
   "cell_type": "markdown",
   "id": "343964b3-60e3-44a4-aa54-efec740b6ba9",
   "metadata": {},
   "source": [
    "Let's check the model's performance by using the default parameters"
   ]
  },
  {
   "cell_type": "code",
   "execution_count": 6,
   "id": "7ffeb081-3b85-425d-8bc5-81ce49da7e05",
   "metadata": {},
   "outputs": [],
   "source": [
    "# Parameters for the ListNet model\n",
    "params = {\n",
    "    'objective': 'lambdarank',\n",
    "    'metric': 'ndcg',  # NDCG for evaluation\n",
    "    'verbose': -1,\n",
    "    'label_gain': list(range(max(y_train.max(), y_test.max()) + 1)),\n",
    "    'random_state': 42\n",
    "}"
   ]
  },
  {
   "cell_type": "markdown",
   "id": "58179752-ab7b-496d-a969-444321fb9bf3",
   "metadata": {},
   "source": [
    "### Model training"
   ]
  },
  {
   "cell_type": "code",
   "execution_count": 7,
   "id": "3001b525-96b2-49d8-bf4a-478ad610930b",
   "metadata": {},
   "outputs": [],
   "source": [
    "# Train the model\n",
    "bst = lgb.train(\n",
    "    params, \n",
    "    train_data, \n",
    "    valid_sets=[test_data]\n",
    ")"
   ]
  },
  {
   "cell_type": "markdown",
   "id": "f613fa41-c653-41c9-ab76-fa9f6123f10c",
   "metadata": {},
   "source": [
    "### Model testing"
   ]
  },
  {
   "cell_type": "code",
   "execution_count": 8,
   "id": "ea1222d8-9d52-476a-9b8f-a21227caa9bd",
   "metadata": {},
   "outputs": [],
   "source": [
    "# Predict scores for the test set\n",
    "predictions = bst.predict(X_test_features)"
   ]
  },
  {
   "cell_type": "code",
   "execution_count": 9,
   "id": "1f48af3e-24ea-44b2-b39f-f8213b8cdd89",
   "metadata": {},
   "outputs": [],
   "source": [
    "results_df = test_df.copy()\n",
    "results_df['rank'] = predictions"
   ]
  },
  {
   "cell_type": "code",
   "execution_count": 10,
   "id": "b6e03190-4613-4aeb-99e7-551929a7898f",
   "metadata": {},
   "outputs": [
    {
     "name": "stdout",
     "output_type": "stream",
     "text": [
      "NDCG Score: 0.9387\n"
     ]
    }
   ],
   "source": [
    "orders = np.array(results_df['orders']).reshape(1, -1)\n",
    "rank = np.array(results_df['rank']).reshape(1, -1)\n",
    "\n",
    "# Calculate NDCG\n",
    "ndcg = ndcg_score(orders, rank)\n",
    "\n",
    "print(f\"NDCG Score: {round(ndcg, 4)}\")"
   ]
  },
  {
   "cell_type": "markdown",
   "id": "49ea0653-96b7-46ea-a6eb-ddea7bf72224",
   "metadata": {},
   "source": [
    "### Hypertuning"
   ]
  },
  {
   "cell_type": "code",
   "execution_count": 12,
   "id": "acf3fdd5-7117-4e92-9af5-a77f95efe1f2",
   "metadata": {},
   "outputs": [],
   "source": [
    "# Configure the logging\n",
    "logging.basicConfig(level=logging.INFO, filename='hypertuning/optuna_logs_listwise.txt', filemode='a')\n",
    "logger = logging.getLogger(__name__)\n",
    "\n",
    "# Define the objective function for Optuna\n",
    "def objective(trial):\n",
    "    params = {\n",
    "        'objective': 'lambdarank',\n",
    "        'metric': 'ndcg',\n",
    "        'verbose': -1,\n",
    "        'random_state': 42,\n",
    "        'label_gain': list(range(max(y_train.max(), y_test.max()) + 1)),\n",
    "        'learning_rate': trial.suggest_float('learning_rate', 0.001, 1.0),\n",
    "        'num_leaves': trial.suggest_int('num_leaves', 2, 256),\n",
    "        'max_depth': trial.suggest_int('max_depth', 1, 20),\n",
    "    }\n",
    "\n",
    "    # Create LightGBM dataset with group information\n",
    "    train_data = lgb.Dataset(X_train_features, label=y_train, group=train_groups)\n",
    "    test_data = lgb.Dataset(X_test_features, label=y_test, group=test_groups, reference=train_data)\n",
    "\n",
    "    # Train the model with the current hyperparameters\n",
    "    bst = lgb.train(params, train_data, valid_sets=[test_data])\n",
    "\n",
    "    # Predict scores for the test set\n",
    "    predictions = bst.predict(X_test_features)\n",
    "    results_df = test_df.copy()\n",
    "    results_df['rank'] = predictions\n",
    "\n",
    "    # Reshape inputs for ndcg_score\n",
    "    orders = np.array(results_df['orders']).reshape(1, -1)\n",
    "    rank = np.array(results_df['rank']).reshape(1, -1)\n",
    "\n",
    "    # Calculate NDCG\n",
    "    ndcg = ndcg_score(orders, rank)\n",
    "    \n",
    "    logger.info(f\"Trial {trial.number} - NDCG: {ndcg}, Hyperparameters: {trial.params}\")\n",
    "    return -ndcg  # Optuna minimizes, so we negate NDCG to maximize it\n",
    "\n",
    "# Create an Optuna study\n",
    "optuna.logging.set_verbosity(optuna.logging.WARNING)\n",
    "\n",
    "study = optuna.create_study(direction='minimize')\n",
    "study.optimize(objective, n_trials=60)"
   ]
  },
  {
   "cell_type": "code",
   "execution_count": 13,
   "id": "c294f83e-1b88-4cc9-99b0-3d2d9cbf16e0",
   "metadata": {},
   "outputs": [
    {
     "name": "stdout",
     "output_type": "stream",
     "text": [
      "{'learning_rate': 0.20815690907166637, 'num_leaves': 125, 'max_depth': 3}\n"
     ]
    }
   ],
   "source": [
    "# Save the results\n",
    "with open(f'hypertuning/best_params_listwise.json', 'w') as f:\n",
    "    json.dump(study.best_params, f)\n",
    "    \n",
    "params = study.best_params\n",
    "print(study.best_params)"
   ]
  },
  {
   "cell_type": "markdown",
   "id": "e2cf7ae4-e317-47ef-a05c-23ae57c9ef3e",
   "metadata": {},
   "source": [
    "### Let's check the results again"
   ]
  },
  {
   "cell_type": "code",
   "execution_count": 19,
   "id": "162b02eb-c2fd-470d-aad4-733874ad6234",
   "metadata": {},
   "outputs": [],
   "source": [
    "default_params = {\n",
    "    'objective': 'lambdarank',\n",
    "    'metric': 'ndcg',\n",
    "    'verbose': -1,\n",
    "    'random_state': 42,\n",
    "    'label_gain': list(range(max(y_train.max(), y_test.max()) + 1)),\n",
    "}\n",
    "\n",
    "# Merge the additional hyperparameters into the params dictionary\n",
    "params.update(default_params)"
   ]
  },
  {
   "cell_type": "code",
   "execution_count": 21,
   "id": "8fb08650-928b-4bbc-8909-def6e4357b57",
   "metadata": {},
   "outputs": [],
   "source": [
    "top_model = lgb.train(\n",
    "    params, \n",
    "    train_data, \n",
    "    valid_sets=[test_data]\n",
    ")"
   ]
  },
  {
   "cell_type": "code",
   "execution_count": 22,
   "id": "27d5eaec-9530-4f60-8b81-053483a48caa",
   "metadata": {},
   "outputs": [],
   "source": [
    "predictions = top_model.predict(X_test_features)\n",
    "top_results_df = test_df.copy()\n",
    "top_results_df['rank'] = predictions"
   ]
  },
  {
   "cell_type": "code",
   "execution_count": 23,
   "id": "57e72bef-30cd-491e-bf6f-9148d7cd781c",
   "metadata": {},
   "outputs": [
    {
     "name": "stdout",
     "output_type": "stream",
     "text": [
      "NDCG Score: 0.9644\n"
     ]
    }
   ],
   "source": [
    "orders = np.array(top_results_df['orders']).reshape(1, -1)\n",
    "rank = np.array(top_results_df['rank']).reshape(1, -1)\n",
    "\n",
    "# Calculate NDCG\n",
    "ndcg = ndcg_score(orders, rank)\n",
    "\n",
    "print(f\"NDCG Score: {round(ndcg, 4)}\")"
   ]
  },
  {
   "cell_type": "code",
   "execution_count": 29,
   "id": "8ab8091b-4976-4f0f-870d-5b304f3be7a2",
   "metadata": {},
   "outputs": [
    {
     "data": {
      "text/html": [
       "<div>\n",
       "<style scoped>\n",
       "    .dataframe tbody tr th:only-of-type {\n",
       "        vertical-align: middle;\n",
       "    }\n",
       "\n",
       "    .dataframe tbody tr th {\n",
       "        vertical-align: top;\n",
       "    }\n",
       "\n",
       "    .dataframe thead th {\n",
       "        text-align: right;\n",
       "    }\n",
       "</style>\n",
       "<table border=\"1\" class=\"dataframe\">\n",
       "  <thead>\n",
       "    <tr style=\"text-align: right;\">\n",
       "      <th></th>\n",
       "      <th>offer_id</th>\n",
       "      <th>category_id</th>\n",
       "      <th>add_to_wishlist</th>\n",
       "      <th>add_to_cart</th>\n",
       "      <th>base_price_with_vat</th>\n",
       "      <th>ordered_quantity</th>\n",
       "      <th>orders</th>\n",
       "      <th>product_novelty</th>\n",
       "      <th>count_reviews</th>\n",
       "      <th>pageviews</th>\n",
       "      <th>rating</th>\n",
       "      <th>promo_price_with_vat</th>\n",
       "      <th>date</th>\n",
       "      <th>rank</th>\n",
       "    </tr>\n",
       "  </thead>\n",
       "  <tbody>\n",
       "    <tr>\n",
       "      <th>169848</th>\n",
       "      <td>58</td>\n",
       "      <td>3</td>\n",
       "      <td>506</td>\n",
       "      <td>1478</td>\n",
       "      <td>799.9900</td>\n",
       "      <td>1038</td>\n",
       "      <td>1029</td>\n",
       "      <td>2016-10-26</td>\n",
       "      <td>911</td>\n",
       "      <td>40599</td>\n",
       "      <td>4.35</td>\n",
       "      <td>399.9901</td>\n",
       "      <td>2021-01-06</td>\n",
       "      <td>14.589817</td>\n",
       "    </tr>\n",
       "    <tr>\n",
       "      <th>176645</th>\n",
       "      <td>58</td>\n",
       "      <td>3</td>\n",
       "      <td>328</td>\n",
       "      <td>636</td>\n",
       "      <td>799.9900</td>\n",
       "      <td>547</td>\n",
       "      <td>503</td>\n",
       "      <td>2016-10-26</td>\n",
       "      <td>913</td>\n",
       "      <td>19571</td>\n",
       "      <td>4.35</td>\n",
       "      <td>399.9901</td>\n",
       "      <td>2021-01-07</td>\n",
       "      <td>14.589817</td>\n",
       "    </tr>\n",
       "    <tr>\n",
       "      <th>183392</th>\n",
       "      <td>58</td>\n",
       "      <td>3</td>\n",
       "      <td>220</td>\n",
       "      <td>604</td>\n",
       "      <td>799.9900</td>\n",
       "      <td>485</td>\n",
       "      <td>468</td>\n",
       "      <td>2016-10-26</td>\n",
       "      <td>918</td>\n",
       "      <td>13888</td>\n",
       "      <td>4.34</td>\n",
       "      <td>799.9900</td>\n",
       "      <td>2021-01-08</td>\n",
       "      <td>14.305395</td>\n",
       "    </tr>\n",
       "    <tr>\n",
       "      <th>169873</th>\n",
       "      <td>348</td>\n",
       "      <td>3</td>\n",
       "      <td>313</td>\n",
       "      <td>425</td>\n",
       "      <td>949.9900</td>\n",
       "      <td>339</td>\n",
       "      <td>315</td>\n",
       "      <td>2018-05-23</td>\n",
       "      <td>284</td>\n",
       "      <td>12138</td>\n",
       "      <td>4.36</td>\n",
       "      <td>549.9900</td>\n",
       "      <td>2021-01-06</td>\n",
       "      <td>14.254103</td>\n",
       "    </tr>\n",
       "    <tr>\n",
       "      <th>166209</th>\n",
       "      <td>287</td>\n",
       "      <td>2</td>\n",
       "      <td>334</td>\n",
       "      <td>477</td>\n",
       "      <td>1099.9899</td>\n",
       "      <td>364</td>\n",
       "      <td>327</td>\n",
       "      <td>2018-03-16</td>\n",
       "      <td>260</td>\n",
       "      <td>20208</td>\n",
       "      <td>4.62</td>\n",
       "      <td>699.9900</td>\n",
       "      <td>2021-01-06</td>\n",
       "      <td>13.175575</td>\n",
       "    </tr>\n",
       "  </tbody>\n",
       "</table>\n",
       "</div>"
      ],
      "text/plain": [
       "        offer_id  category_id  add_to_wishlist  add_to_cart  \\\n",
       "169848        58            3              506         1478   \n",
       "176645        58            3              328          636   \n",
       "183392        58            3              220          604   \n",
       "169873       348            3              313          425   \n",
       "166209       287            2              334          477   \n",
       "\n",
       "        base_price_with_vat  ordered_quantity  orders product_novelty  \\\n",
       "169848             799.9900              1038    1029      2016-10-26   \n",
       "176645             799.9900               547     503      2016-10-26   \n",
       "183392             799.9900               485     468      2016-10-26   \n",
       "169873             949.9900               339     315      2018-05-23   \n",
       "166209            1099.9899               364     327      2018-03-16   \n",
       "\n",
       "        count_reviews  pageviews  rating  promo_price_with_vat        date  \\\n",
       "169848            911      40599    4.35              399.9901  2021-01-06   \n",
       "176645            913      19571    4.35              399.9901  2021-01-07   \n",
       "183392            918      13888    4.34              799.9900  2021-01-08   \n",
       "169873            284      12138    4.36              549.9900  2021-01-06   \n",
       "166209            260      20208    4.62              699.9900  2021-01-06   \n",
       "\n",
       "             rank  \n",
       "169848  14.589817  \n",
       "176645  14.589817  \n",
       "183392  14.305395  \n",
       "169873  14.254103  \n",
       "166209  13.175575  "
      ]
     },
     "execution_count": 29,
     "metadata": {},
     "output_type": "execute_result"
    }
   ],
   "source": [
    "top_results_df.sort_values('rank', ascending=False).head(5)"
   ]
  },
  {
   "cell_type": "code",
   "execution_count": null,
   "id": "d9300c71-76b4-4a4b-a579-f6f43606b17a",
   "metadata": {},
   "outputs": [],
   "source": []
  }
 ],
 "metadata": {
  "kernelspec": {
   "display_name": "Python 3 (ipykernel)",
   "language": "python",
   "name": "python3"
  },
  "language_info": {
   "codemirror_mode": {
    "name": "ipython",
    "version": 3
   },
   "file_extension": ".py",
   "mimetype": "text/x-python",
   "name": "python",
   "nbconvert_exporter": "python",
   "pygments_lexer": "ipython3",
   "version": "3.10.8"
  }
 },
 "nbformat": 4,
 "nbformat_minor": 5
}
