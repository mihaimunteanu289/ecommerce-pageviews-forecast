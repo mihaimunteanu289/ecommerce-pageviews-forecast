{
 "cells": [
  {
   "cell_type": "markdown",
   "id": "a39878cd-cfec-4cf1-a9f7-b7f39dcbb26e",
   "metadata": {},
   "source": [
    "### Import libraries"
   ]
  },
  {
   "cell_type": "code",
   "execution_count": 1,
   "id": "4df10901-0512-415e-b096-3b756d693ea7",
   "metadata": {},
   "outputs": [],
   "source": [
    "import pandas as pd"
   ]
  },
  {
   "cell_type": "markdown",
   "id": "934620e4-9c73-43c0-b996-b7e2e71074a5",
   "metadata": {},
   "source": [
    "### Read dataset"
   ]
  },
  {
   "cell_type": "code",
   "execution_count": 2,
   "id": "5cde9970-24c7-4432-9270-d66686c9250d",
   "metadata": {},
   "outputs": [
    {
     "data": {
      "text/html": [
       "<div>\n",
       "<style scoped>\n",
       "    .dataframe tbody tr th:only-of-type {\n",
       "        vertical-align: middle;\n",
       "    }\n",
       "\n",
       "    .dataframe tbody tr th {\n",
       "        vertical-align: top;\n",
       "    }\n",
       "\n",
       "    .dataframe thead th {\n",
       "        text-align: right;\n",
       "    }\n",
       "</style>\n",
       "<table border=\"1\" class=\"dataframe\">\n",
       "  <thead>\n",
       "    <tr style=\"text-align: right;\">\n",
       "      <th></th>\n",
       "      <th>offer_id</th>\n",
       "      <th>category_id</th>\n",
       "      <th>add_to_wishlist</th>\n",
       "      <th>add_to_cart</th>\n",
       "      <th>base_price_with_vat</th>\n",
       "      <th>ordered_quantity</th>\n",
       "      <th>orders</th>\n",
       "      <th>product_novelty</th>\n",
       "      <th>count_reviews</th>\n",
       "      <th>pageviews</th>\n",
       "      <th>rating</th>\n",
       "      <th>promo_price_with_vat</th>\n",
       "      <th>date</th>\n",
       "    </tr>\n",
       "  </thead>\n",
       "  <tbody>\n",
       "    <tr>\n",
       "      <th>0</th>\n",
       "      <td>21</td>\n",
       "      <td>1</td>\n",
       "      <td>0</td>\n",
       "      <td>0</td>\n",
       "      <td>2009.99</td>\n",
       "      <td>0</td>\n",
       "      <td>0</td>\n",
       "      <td>2016-03-29</td>\n",
       "      <td>0</td>\n",
       "      <td>0</td>\n",
       "      <td>0.00</td>\n",
       "      <td>2009.99</td>\n",
       "      <td>2020-12-12</td>\n",
       "    </tr>\n",
       "    <tr>\n",
       "      <th>1</th>\n",
       "      <td>83</td>\n",
       "      <td>1</td>\n",
       "      <td>0</td>\n",
       "      <td>0</td>\n",
       "      <td>6699.99</td>\n",
       "      <td>0</td>\n",
       "      <td>0</td>\n",
       "      <td>2017-03-15</td>\n",
       "      <td>0</td>\n",
       "      <td>32</td>\n",
       "      <td>0.00</td>\n",
       "      <td>3999.99</td>\n",
       "      <td>2020-12-12</td>\n",
       "    </tr>\n",
       "    <tr>\n",
       "      <th>2</th>\n",
       "      <td>119</td>\n",
       "      <td>1</td>\n",
       "      <td>23</td>\n",
       "      <td>6</td>\n",
       "      <td>5799.99</td>\n",
       "      <td>3</td>\n",
       "      <td>3</td>\n",
       "      <td>2017-06-09</td>\n",
       "      <td>40</td>\n",
       "      <td>1218</td>\n",
       "      <td>4.35</td>\n",
       "      <td>4499.99</td>\n",
       "      <td>2020-12-12</td>\n",
       "    </tr>\n",
       "    <tr>\n",
       "      <th>3</th>\n",
       "      <td>120</td>\n",
       "      <td>1</td>\n",
       "      <td>13</td>\n",
       "      <td>1</td>\n",
       "      <td>5799.99</td>\n",
       "      <td>1</td>\n",
       "      <td>1</td>\n",
       "      <td>2017-06-09</td>\n",
       "      <td>21</td>\n",
       "      <td>350</td>\n",
       "      <td>4.52</td>\n",
       "      <td>4499.99</td>\n",
       "      <td>2020-12-12</td>\n",
       "    </tr>\n",
       "    <tr>\n",
       "      <th>4</th>\n",
       "      <td>121</td>\n",
       "      <td>1</td>\n",
       "      <td>1</td>\n",
       "      <td>0</td>\n",
       "      <td>7199.99</td>\n",
       "      <td>0</td>\n",
       "      <td>0</td>\n",
       "      <td>2017-06-12</td>\n",
       "      <td>0</td>\n",
       "      <td>26</td>\n",
       "      <td>0.00</td>\n",
       "      <td>5999.99</td>\n",
       "      <td>2020-12-12</td>\n",
       "    </tr>\n",
       "  </tbody>\n",
       "</table>\n",
       "</div>"
      ],
      "text/plain": [
       "   offer_id  category_id  add_to_wishlist  add_to_cart  base_price_with_vat  \\\n",
       "0        21            1                0            0              2009.99   \n",
       "1        83            1                0            0              6699.99   \n",
       "2       119            1               23            6              5799.99   \n",
       "3       120            1               13            1              5799.99   \n",
       "4       121            1                1            0              7199.99   \n",
       "\n",
       "   ordered_quantity  orders product_novelty  count_reviews  pageviews  rating  \\\n",
       "0                 0       0      2016-03-29              0          0    0.00   \n",
       "1                 0       0      2017-03-15              0         32    0.00   \n",
       "2                 3       3      2017-06-09             40       1218    4.35   \n",
       "3                 1       1      2017-06-09             21        350    4.52   \n",
       "4                 0       0      2017-06-12              0         26    0.00   \n",
       "\n",
       "   promo_price_with_vat        date  \n",
       "0               2009.99  2020-12-12  \n",
       "1               3999.99  2020-12-12  \n",
       "2               4499.99  2020-12-12  \n",
       "3               4499.99  2020-12-12  \n",
       "4               5999.99  2020-12-12  "
      ]
     },
     "execution_count": 2,
     "metadata": {},
     "output_type": "execute_result"
    }
   ],
   "source": [
    "df = pd.read_csv('data/dataset_v1.csv')\n",
    "df.head(5)"
   ]
  },
  {
   "cell_type": "markdown",
   "id": "9885f115-66a6-4848-bbe9-7a53b276a24b",
   "metadata": {},
   "source": [
    "### Data preprocessing"
   ]
  },
  {
   "cell_type": "markdown",
   "id": "43691e5e-a6a9-4bf9-8cbb-08573f080f77",
   "metadata": {},
   "source": [
    "Let's begin by one-hot encoding 'category_id' since its cardinality is 3, which allows us to do this."
   ]
  },
  {
   "cell_type": "code",
   "execution_count": 3,
   "id": "8222133e-fa9a-4ee5-9abd-24e8a269415e",
   "metadata": {},
   "outputs": [
    {
     "name": "stdout",
     "output_type": "stream",
     "text": [
      "category_id cardinality: 3\n"
     ]
    }
   ],
   "source": [
    "cardinality = df.category_id.value_counts(dropna=False).shape[0]\n",
    "print(f'category_id cardinality: {cardinality}')"
   ]
  },
  {
   "cell_type": "code",
   "execution_count": 4,
   "id": "f052e243-36e6-4248-b2ec-a45d56d51835",
   "metadata": {},
   "outputs": [],
   "source": [
    "df = pd.get_dummies(df, columns=['category_id'], prefix='category')"
   ]
  },
  {
   "cell_type": "markdown",
   "id": "8ebbade4-98fe-408e-a8d4-f129ad20a30c",
   "metadata": {},
   "source": [
    "I believe this was the only variable requiring preprocessing. Let's proceed with the feature engineering phase."
   ]
  },
  {
   "cell_type": "markdown",
   "id": "b77db7f6-607d-414b-aecd-c201b7adfb4a",
   "metadata": {},
   "source": [
    "### Export dataframe"
   ]
  },
  {
   "cell_type": "code",
   "execution_count": 5,
   "id": "61aedb98-e9cd-4258-8efa-223cd4524df9",
   "metadata": {},
   "outputs": [],
   "source": [
    "df.to_csv('data/dataset_v2.csv', index=False)"
   ]
  },
  {
   "cell_type": "code",
   "execution_count": null,
   "id": "0e7231a1-f22c-43d4-9deb-9d4b2d9c63e9",
   "metadata": {},
   "outputs": [],
   "source": []
  }
 ],
 "metadata": {
  "kernelspec": {
   "display_name": "Python 3 (ipykernel)",
   "language": "python",
   "name": "python3"
  },
  "language_info": {
   "codemirror_mode": {
    "name": "ipython",
    "version": 3
   },
   "file_extension": ".py",
   "mimetype": "text/x-python",
   "name": "python",
   "nbconvert_exporter": "python",
   "pygments_lexer": "ipython3",
   "version": "3.10.8"
  }
 },
 "nbformat": 4,
 "nbformat_minor": 5
}
