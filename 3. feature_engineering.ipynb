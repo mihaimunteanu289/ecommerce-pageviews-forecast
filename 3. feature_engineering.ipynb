{
 "cells": [
  {
   "cell_type": "markdown",
   "id": "54e9df31-ed73-4169-896f-825c3f9e635a",
   "metadata": {},
   "source": [
    "### Import libraries"
   ]
  },
  {
   "cell_type": "code",
   "execution_count": 1,
   "id": "5c4e15f1-d01a-48b9-8b8d-e805fe5a2ba2",
   "metadata": {},
   "outputs": [],
   "source": [
    "import pandas as pd\n",
    "import numpy as np\n",
    "import holidays"
   ]
  },
  {
   "cell_type": "markdown",
   "id": "15e17868-54fe-4ac8-990d-9a965ba1cf9b",
   "metadata": {},
   "source": [
    "### Read dataset"
   ]
  },
  {
   "cell_type": "code",
   "execution_count": 2,
   "id": "2bed691a-36e7-41b2-aca6-d01396de226c",
   "metadata": {},
   "outputs": [
    {
     "data": {
      "text/html": [
       "<div>\n",
       "<style scoped>\n",
       "    .dataframe tbody tr th:only-of-type {\n",
       "        vertical-align: middle;\n",
       "    }\n",
       "\n",
       "    .dataframe tbody tr th {\n",
       "        vertical-align: top;\n",
       "    }\n",
       "\n",
       "    .dataframe thead th {\n",
       "        text-align: right;\n",
       "    }\n",
       "</style>\n",
       "<table border=\"1\" class=\"dataframe\">\n",
       "  <thead>\n",
       "    <tr style=\"text-align: right;\">\n",
       "      <th></th>\n",
       "      <th>offer_id</th>\n",
       "      <th>add_to_wishlist</th>\n",
       "      <th>add_to_cart</th>\n",
       "      <th>base_price_with_vat</th>\n",
       "      <th>ordered_quantity</th>\n",
       "      <th>orders</th>\n",
       "      <th>product_novelty</th>\n",
       "      <th>count_reviews</th>\n",
       "      <th>pageviews</th>\n",
       "      <th>rating</th>\n",
       "      <th>promo_price_with_vat</th>\n",
       "      <th>date</th>\n",
       "      <th>category_1</th>\n",
       "      <th>category_2</th>\n",
       "      <th>category_3</th>\n",
       "    </tr>\n",
       "  </thead>\n",
       "  <tbody>\n",
       "    <tr>\n",
       "      <th>0</th>\n",
       "      <td>21</td>\n",
       "      <td>0</td>\n",
       "      <td>0</td>\n",
       "      <td>2009.99</td>\n",
       "      <td>0</td>\n",
       "      <td>0</td>\n",
       "      <td>2016-03-29</td>\n",
       "      <td>0</td>\n",
       "      <td>0</td>\n",
       "      <td>0.00</td>\n",
       "      <td>2009.99</td>\n",
       "      <td>2020-12-12</td>\n",
       "      <td>1</td>\n",
       "      <td>0</td>\n",
       "      <td>0</td>\n",
       "    </tr>\n",
       "    <tr>\n",
       "      <th>1</th>\n",
       "      <td>83</td>\n",
       "      <td>0</td>\n",
       "      <td>0</td>\n",
       "      <td>6699.99</td>\n",
       "      <td>0</td>\n",
       "      <td>0</td>\n",
       "      <td>2017-03-15</td>\n",
       "      <td>0</td>\n",
       "      <td>32</td>\n",
       "      <td>0.00</td>\n",
       "      <td>3999.99</td>\n",
       "      <td>2020-12-12</td>\n",
       "      <td>1</td>\n",
       "      <td>0</td>\n",
       "      <td>0</td>\n",
       "    </tr>\n",
       "    <tr>\n",
       "      <th>2</th>\n",
       "      <td>119</td>\n",
       "      <td>23</td>\n",
       "      <td>6</td>\n",
       "      <td>5799.99</td>\n",
       "      <td>3</td>\n",
       "      <td>3</td>\n",
       "      <td>2017-06-09</td>\n",
       "      <td>40</td>\n",
       "      <td>1218</td>\n",
       "      <td>4.35</td>\n",
       "      <td>4499.99</td>\n",
       "      <td>2020-12-12</td>\n",
       "      <td>1</td>\n",
       "      <td>0</td>\n",
       "      <td>0</td>\n",
       "    </tr>\n",
       "    <tr>\n",
       "      <th>3</th>\n",
       "      <td>120</td>\n",
       "      <td>13</td>\n",
       "      <td>1</td>\n",
       "      <td>5799.99</td>\n",
       "      <td>1</td>\n",
       "      <td>1</td>\n",
       "      <td>2017-06-09</td>\n",
       "      <td>21</td>\n",
       "      <td>350</td>\n",
       "      <td>4.52</td>\n",
       "      <td>4499.99</td>\n",
       "      <td>2020-12-12</td>\n",
       "      <td>1</td>\n",
       "      <td>0</td>\n",
       "      <td>0</td>\n",
       "    </tr>\n",
       "    <tr>\n",
       "      <th>4</th>\n",
       "      <td>121</td>\n",
       "      <td>1</td>\n",
       "      <td>0</td>\n",
       "      <td>7199.99</td>\n",
       "      <td>0</td>\n",
       "      <td>0</td>\n",
       "      <td>2017-06-12</td>\n",
       "      <td>0</td>\n",
       "      <td>26</td>\n",
       "      <td>0.00</td>\n",
       "      <td>5999.99</td>\n",
       "      <td>2020-12-12</td>\n",
       "      <td>1</td>\n",
       "      <td>0</td>\n",
       "      <td>0</td>\n",
       "    </tr>\n",
       "  </tbody>\n",
       "</table>\n",
       "</div>"
      ],
      "text/plain": [
       "   offer_id  add_to_wishlist  add_to_cart  base_price_with_vat  \\\n",
       "0        21                0            0              2009.99   \n",
       "1        83                0            0              6699.99   \n",
       "2       119               23            6              5799.99   \n",
       "3       120               13            1              5799.99   \n",
       "4       121                1            0              7199.99   \n",
       "\n",
       "   ordered_quantity  orders product_novelty  count_reviews  pageviews  rating  \\\n",
       "0                 0       0      2016-03-29              0          0    0.00   \n",
       "1                 0       0      2017-03-15              0         32    0.00   \n",
       "2                 3       3      2017-06-09             40       1218    4.35   \n",
       "3                 1       1      2017-06-09             21        350    4.52   \n",
       "4                 0       0      2017-06-12              0         26    0.00   \n",
       "\n",
       "   promo_price_with_vat        date  category_1  category_2  category_3  \n",
       "0               2009.99  2020-12-12           1           0           0  \n",
       "1               3999.99  2020-12-12           1           0           0  \n",
       "2               4499.99  2020-12-12           1           0           0  \n",
       "3               4499.99  2020-12-12           1           0           0  \n",
       "4               5999.99  2020-12-12           1           0           0  "
      ]
     },
     "execution_count": 2,
     "metadata": {},
     "output_type": "execute_result"
    }
   ],
   "source": [
    "df = pd.read_csv('data/dataset_v2.csv')\n",
    "df.head(5)"
   ]
  },
  {
   "cell_type": "markdown",
   "id": "051fbb47-4945-4e65-b3ec-94ca827ad1fa",
   "metadata": {},
   "source": [
    "### Feature Engineering"
   ]
  },
  {
   "cell_type": "markdown",
   "id": "7f2c5fed-6f02-4326-af7e-b0bc53747311",
   "metadata": {},
   "source": [
    "Let's do something about those datetime columns."
   ]
  },
  {
   "cell_type": "code",
   "execution_count": 3,
   "id": "f0c20792-daa4-4a3d-a8f3-8c4c5f5baf35",
   "metadata": {},
   "outputs": [],
   "source": [
    "df['date'] = pd.to_datetime(df['date'])\n",
    "df['product_novelty'] = pd.to_datetime(df['product_novelty'])\n",
    "dates_diff = df.date - df.product_novelty\n",
    "\n",
    "# Calculate differences\n",
    "df['diff_days'] = dates_diff.dt.days\n",
    "df['diff_years'] = df['date'].dt.year - df['product_novelty'].dt.year\n",
    "df['diff_months'] = df['date'].dt.month - df['product_novelty'].dt.month + 12 * df['diff_years']\n",
    "df.drop('product_novelty', axis=1, inplace=True)"
   ]
  },
  {
   "cell_type": "markdown",
   "id": "fb27e2c3-c439-48e3-880a-8fed9c676b9a",
   "metadata": {},
   "source": [
    "Let's create some other temporal variables that will tell us if it's a weekend or a holiday."
   ]
  },
  {
   "cell_type": "code",
   "execution_count": 4,
   "id": "c9f8c708-b633-4e5f-9a0b-52e3a8353bc0",
   "metadata": {},
   "outputs": [],
   "source": [
    "# Define the Romanian holiday calendar for our dataframe\n",
    "ro_holidays = holidays.Romania(years=[2020, 2021])\n",
    "\n",
    "# Create a new column to indicate if it's a Romanian holiday\n",
    "df['is_ro_holiday'] = df['date'].apply(lambda x: x in ro_holidays)\n",
    "df['is_ro_holiday'] = np.where(df['is_ro_holiday'] == True, 1, 0)\n",
    "\n",
    "# Flag weekends\n",
    "df['is_weekend'] = df['date'].dt.weekday // 5"
   ]
  },
  {
   "cell_type": "markdown",
   "id": "23e562b3-8d47-4848-bb8f-a724dedb959e",
   "metadata": {},
   "source": [
    "Calculating the conversion rate for each product."
   ]
  },
  {
   "cell_type": "code",
   "execution_count": 5,
   "id": "e00963d6-02d8-4851-977b-c0fa4ef9a1d7",
   "metadata": {},
   "outputs": [],
   "source": [
    "df['conversion_rate'] = df['orders'] / df['pageviews']\n",
    "df['conversion_rate'] = df['conversion_rate'].replace([np.inf, -np.inf], np.nan).fillna(0)"
   ]
  },
  {
   "cell_type": "markdown",
   "id": "2f89d18b-4876-45bc-b53e-64936fea7580",
   "metadata": {},
   "source": [
    "Compute the discount applied for each offer_id (absolute and percentage-based)."
   ]
  },
  {
   "cell_type": "code",
   "execution_count": 6,
   "id": "049910ae-89b7-4568-ac39-0d1698b22d1c",
   "metadata": {},
   "outputs": [],
   "source": [
    "df['discount'] = df['base_price_with_vat'] - df['promo_price_with_vat']\n",
    "df['discount_percentage'] = df['discount'] / df['base_price_with_vat']\n",
    "df['discount_percentage'] = df['discount_percentage'].replace([np.inf, -np.inf], np.nan).fillna(0)"
   ]
  },
  {
   "cell_type": "markdown",
   "id": "91ec712b-67a3-48e5-a8a2-223cc19265f7",
   "metadata": {},
   "source": [
    "Proceed with rations to see how engaged the customers are."
   ]
  },
  {
   "cell_type": "code",
   "execution_count": 7,
   "id": "998c0700-e5ef-4aa8-bbaa-b231a30f6f36",
   "metadata": {},
   "outputs": [],
   "source": [
    "# Creating the Wishlist to Pageviews Ratio\n",
    "df['wishlist_to_pageviews_ratio'] = df['add_to_wishlist'] / df['pageviews'].replace(0, 1)\n",
    "# Creating the Cart to Wishlist Ratio\n",
    "df['cart_to_wishlist_ratio'] = df['add_to_cart'] / df['add_to_wishlist'].replace(0, 1)\n",
    "# Creating the Orders to Cart Ratio\n",
    "df['orders_to_cart_ratio'] = df['orders'] / df['add_to_cart'].replace(0, 1)\n",
    "# Make sure we don't have any inf's\n",
    "df[['wishlist_to_pageviews_ratio', 'cart_to_wishlist_ratio', 'orders_to_cart_ratio']] = df[['wishlist_to_pageviews_ratio', 'cart_to_wishlist_ratio', 'orders_to_cart_ratio']].replace([np.inf, -np.inf], np.nan).fillna(0)"
   ]
  },
  {
   "cell_type": "markdown",
   "id": "8377e2db-7b74-4b36-9201-db3c1a625131",
   "metadata": {},
   "source": [
    "Time to shift the target variable - pageviews."
   ]
  },
  {
   "cell_type": "code",
   "execution_count": 8,
   "id": "09d247b6-aba6-49c2-9aba-738415556ccf",
   "metadata": {},
   "outputs": [],
   "source": [
    "df.sort_values(by=['offer_id', 'date'], inplace=True)\n",
    "df['pageviews_-1d_lag'] = df.groupby('offer_id')['pageviews'].shift(-1)"
   ]
  },
  {
   "cell_type": "markdown",
   "id": "c9132e6f-7d17-486d-90c1-c434c78fa4f9",
   "metadata": {},
   "source": [
    "Rolling statistics and lag variables."
   ]
  },
  {
   "cell_type": "code",
   "execution_count": 9,
   "id": "1b538599-22e1-48c8-af3d-ca54a1acdeeb",
   "metadata": {},
   "outputs": [],
   "source": [
    "# Columns for which to create rolling averages and lags\n",
    "columns_to_process = ['add_to_wishlist', 'add_to_cart', 'orders']\n",
    "\n",
    "# Creating 5-day rolling averages\n",
    "for col in columns_to_process:\n",
    "    df[f'{col}_5d_rolling_avg'] = df.groupby('offer_id')[col].transform(lambda x: x.rolling(window=5, min_periods=5).mean())\n",
    "\n",
    "# Creating 1-day and 2-day lag variables\n",
    "for col in columns_to_process:\n",
    "    df[f'{col}_1d_lag'] = df.groupby('offer_id')[col].shift(1)\n",
    "    df[f'{col}_2d_lag'] = df.groupby('offer_id')[col].shift(2)\n",
    "    \n",
    "df = df.dropna(axis=0).reset_index(drop=True)\n",
    "df.drop(['pageviews'], axis=1, inplace=True)"
   ]
  },
  {
   "cell_type": "markdown",
   "id": "63254325-65d8-43f8-a3e7-26a9a0343380",
   "metadata": {},
   "source": [
    "For this problem, I have chosen not to create independent variables from the dependent variable for the following reasons:\n",
    "\n",
    "- Model Versatility: This approach maintains flexibility in choosing various machine learning models, particularly those that might not handle time-dependent features effectively.\n",
    "- Assumption of Independence: Many models assume feature independence. Using lagged versions of the target variable can violate this assumption, potentially impacting model performance.\n",
    "- Avoiding Overfitting: Relying on past values of the dependent variable might lead to overfitting, especially in time series data, reducing the model's ability to generalize to new data."
   ]
  },
  {
   "cell_type": "markdown",
   "id": "234329ed-8f98-4790-8ebf-547adb791ea4",
   "metadata": {},
   "source": [
    "### Export dataframe"
   ]
  },
  {
   "cell_type": "code",
   "execution_count": 10,
   "id": "ad990220-8297-4c74-949f-e3d49123836b",
   "metadata": {},
   "outputs": [],
   "source": [
    "df.to_csv('data/dataset_v3.csv', index=False)"
   ]
  },
  {
   "cell_type": "code",
   "execution_count": null,
   "id": "a3913cb2-7d7d-4934-b673-bc491da9bd2c",
   "metadata": {},
   "outputs": [],
   "source": []
  }
 ],
 "metadata": {
  "kernelspec": {
   "display_name": "Python 3 (ipykernel)",
   "language": "python",
   "name": "python3"
  },
  "language_info": {
   "codemirror_mode": {
    "name": "ipython",
    "version": 3
   },
   "file_extension": ".py",
   "mimetype": "text/x-python",
   "name": "python",
   "nbconvert_exporter": "python",
   "pygments_lexer": "ipython3",
   "version": "3.10.8"
  }
 },
 "nbformat": 4,
 "nbformat_minor": 5
}
